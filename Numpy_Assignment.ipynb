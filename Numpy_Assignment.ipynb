{
 "cells": [
  {
   "cell_type": "markdown",
   "metadata": {},
   "source": [
    "Problem Statement - 1\n",
    "\n",
    "Write a function so that the columns of the output matrix are powers of the input\n",
    "vector.\n",
    "\n",
    "The order of the powers is determined by the 'increasing' boolean argument. Specifically, when\n",
    "increasing is False, the i-th output column is the input vector raised element-wise to the power\n",
    "of N - i - 1.\n",
    "\n",
    "HINT: Such a matrix with a geometric progression in each row is named for Alexandre-\n",
    "Theophile Vandermonde."
   ]
  },
  {
   "cell_type": "code",
   "execution_count": 72,
   "metadata": {},
   "outputs": [
    {
     "name": "stdout",
     "output_type": "stream",
     "text": [
      "When Decreasing ...  \n",
      "[[     1      1      1      1      1      1      1]\n",
      " [    64     32     16      8      4      2      1]\n",
      " [   729    243     81     27      9      3      1]\n",
      " [  4096   1024    256     64     16      4      1]\n",
      " [ 15625   3125    625    125     25      5      1]\n",
      " [ 46656   7776   1296    216     36      6      1]\n",
      " [117649  16807   2401    343     49      7      1]]\n",
      "\n",
      "\n",
      "When Increasing ...  \n",
      "[[     1      1      1      1      1      1      1]\n",
      " [     1      2      4      8     16     32     64]\n",
      " [     1      3      9     27     81    243    729]\n",
      " [     1      4     16     64    256   1024   4096]\n",
      " [     1      5     25    125    625   3125  15625]\n",
      " [     1      6     36    216   1296   7776  46656]\n",
      " [     1      7     49    343   2401  16807 117649]]\n"
     ]
    }
   ],
   "source": [
    "import pandas as pd\n",
    "import numpy as np\n",
    "\n",
    "def gen_matrix(input_vector, n, increasing=False):\n",
    "\n",
    "    if not increasing:\n",
    "        output = np.array([x**(n-1-i) for x in input_vector for i in range(n)]).reshape(input_vector.size,n)\n",
    "    else:\n",
    "        output = np.array([x**i for x in input_vector for i in range(n)]).reshape(input_vector.size, n)\n",
    "    \n",
    "    return output\n",
    "\n",
    "\n",
    "input_vector= np.array([1,2,3,4,5,6,7])\n",
    "\n",
    "##  When Not Inreasing\n",
    "output1= gen_matrix(input_vector, input_vector.size, False)\n",
    "\n",
    "## When Increasing\n",
    "output2 = gen_matrix(input_vector, input_vector.size, True)\n",
    "\n",
    "print('When Decreasing ...  ')\n",
    "print(output1)\n",
    "print('\\n')\n",
    "print('When Increasing ...  ')\n",
    "print(output2)\n"
   ]
  },
  {
   "cell_type": "code",
   "execution_count": null,
   "metadata": {},
   "outputs": [],
   "source": [
    "\n"
   ]
  },
  {
   "cell_type": "markdown",
   "metadata": {},
   "source": [
    "Problem Statement - 2\n",
    "\n",
    "Given a sequence of n values x1, x2, ..., xn and a window size k>0, the k-th moving average of\n",
    "the given sequence is defined as follows:\n",
    "    \n",
    "The moving average sequence has n-k+1 elements as shown below.\n",
    "\n",
    "The moving averages with k=4 of a ten-value sequence (n=10) is shown below\n",
    "\n",
    "i 1 2 3 4 5 6 7 8 9 10\n",
    "===== == == == == == == == == == ==\n",
    "Input 10 20 30 40 50 60 70 80 90 100\n",
    "y1 25 = (10+20+30+40)/4\n",
    "y2 35 = (20+30+40+50)/4\n",
    "y3 45 = (30+40+50+60)/4\n",
    "y4 55 = (40+50+60+70)/4\n",
    "y5 65 = (50+60+70+80)/4\n",
    "y6 75 = (60+70+80+90)/4\n",
    "y7 85 = (70+80+90+100)/4\n",
    "\n",
    "Thus, the moving average sequence has n-k+1=10-4+1=7 values."
   ]
  },
  {
   "cell_type": "raw",
   "metadata": {},
   "source": [
    "Question: Write a function to find moving average in an array over a window:\n",
    "Test it over [3, 5, 7, 2, 8, 10, 11, 65, 72, 81, 99, 100, 150] and window of 3."
   ]
  },
  {
   "cell_type": "code",
   "execution_count": 73,
   "metadata": {},
   "outputs": [
    {
     "name": "stdout",
     "output_type": "stream",
     "text": [
      "[  5.           4.66666667   5.66666667   6.66666667   9.66666667\n",
      "  28.66666667  49.33333333  72.66666667  84.          93.33333333\n",
      " 116.33333333]\n"
     ]
    }
   ],
   "source": [
    "def moving_Average(array , window):\n",
    "   \n",
    "   # Since , out Output Array contains n-k+1 values\n",
    "   output = np.zeros(array.size - window + 1) \n",
    "    \n",
    "   for i in range(window, array.size+1): \n",
    "      output[i-window] = array[i-window:i].mean()\n",
    "   return output\n",
    "\n",
    "result = moving_Average(np.array([3, 5, 7, 2, 8, 10, 11, 65, 72, 81, 99, 100, 150]) , 3)\n",
    "\n",
    "print(result)\n",
    "\n",
    "\n"
   ]
  },
  {
   "cell_type": "code",
   "execution_count": null,
   "metadata": {},
   "outputs": [],
   "source": []
  }
 ],
 "metadata": {
  "kernelspec": {
   "display_name": "Python 3",
   "language": "python",
   "name": "python3"
  },
  "language_info": {
   "codemirror_mode": {
    "name": "ipython",
    "version": 3
   },
   "file_extension": ".py",
   "mimetype": "text/x-python",
   "name": "python",
   "nbconvert_exporter": "python",
   "pygments_lexer": "ipython3",
   "version": "3.7.6"
  }
 },
 "nbformat": 4,
 "nbformat_minor": 4
}
