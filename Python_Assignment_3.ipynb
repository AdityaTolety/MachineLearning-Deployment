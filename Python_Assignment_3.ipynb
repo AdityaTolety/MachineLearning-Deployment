{
 "cells": [
  {
   "cell_type": "markdown",
   "metadata": {},
   "source": [
    "1.1 Write a Python Program to implement your own myreduce() function which works exactly\n",
    "like Python's built-in function reduce()"
   ]
  },
  {
   "cell_type": "code",
   "execution_count": 111,
   "metadata": {},
   "outputs": [],
   "source": [
    "def myreduce(function , iterable):\n",
    "   it = iter(iterable)\n",
    "   try:\n",
    "     first = next(it)\n",
    "   except StopIteration:\n",
    "     return \"Iterable should not be empty\"\n",
    "    \n",
    "   result = first\n",
    "   for x in it:\n",
    "     result = function(result , x)\n",
    "   return result     \n",
    "\n",
    "# Testing ...\n",
    "\n",
    "# To return sum of elements in Sequence\n",
    "#print(myreduce(lambda x,y: x+y , (2,3,5,6,7,8,9)))\n",
    "\n",
    "# To return largest element of Sequence\n",
    "#print(myreduce(lambda x,y: x if x>y else y , [5,6]))\n",
    "\n",
    "# To concatenate a sequence of strings\n",
    "#print(myreduce(lambda x,y: x+y , [\"aditya\",\" \",\"tolety\"]))"
   ]
  },
  {
   "cell_type": "raw",
   "metadata": {},
   "source": []
  },
  {
   "cell_type": "markdown",
   "metadata": {},
   "source": [
    "1.2 Write a Python program to implement your own myfilter() function which works exactly\n",
    "like Python's built-in function filter()"
   ]
  },
  {
   "cell_type": "code",
   "execution_count": 112,
   "metadata": {},
   "outputs": [],
   "source": [
    "def myfilter(function, iterable):\n",
    "   \n",
    "   # When function is None , the function defaults to Identity Function\n",
    "   if function is None:\n",
    "        function = bool\n",
    "   result = [] \n",
    "   for element in iterable:\n",
    "     if function(element):\n",
    "        result.append(element)\n",
    "   return result \n",
    "\n",
    "# Testing ... \n",
    "\n",
    "#myfilter(lambda x:x%2 ==0 , (1,2,3,4,5,6))\n",
    "\n",
    "#myfilter(lambda s:s.isupper() , [\"TOLE\",\"ad\",\"ABC\"])\n",
    "\n",
    "#myfilter(lambda x: True if x%2==0 else False , range(10))\n",
    "\n",
    "# If Function is None ,\n",
    "#myfilter(None , [1, 'a', 0, False, True, '0'])\n",
    "     \n"
   ]
  },
  {
   "cell_type": "raw",
   "metadata": {},
   "source": [
    "2. Implement List comprehensions to produce the following lists.\n",
    "\n",
    "Write List comprehensions to produce the following Lists\n",
    "\n",
    "['x', 'xx', 'xxx', 'xxxx', 'y', 'yy', 'yyy', 'yyyy', 'z', 'zz', 'zzz', 'zzzz']\n",
    "['x', 'y', 'z', 'xx', 'yy', 'zz', 'xxx', 'yyy', 'zzz', 'xxxx', 'yyyy', 'zzzz']\n",
    "[[2], [3], [4], [3], [4], [5], [4], [5], [6]]\n",
    "[[2, 3, 4, 5], [3, 4, 5, 6], [4, 5, 6, 7], [5, 6, 7, 8]]\n",
    "[(1, 1), (2, 1), (3, 1), (1, 2), (2, 2), (3, 2), (1, 3), (2, 3), (3, 3)]\n"
   ]
  },
  {
   "cell_type": "code",
   "execution_count": 63,
   "metadata": {},
   "outputs": [
    {
     "name": "stdout",
     "output_type": "stream",
     "text": [
      "['x', 'xx', 'xxx', 'xxxx', 'y', 'yy', 'yyy', 'yyyy', 'z', 'zz', 'zzz', 'zzzz']\n",
      "['x', 'y', 'z', 'xx', 'yy', 'zz', 'xxx', 'yyy', 'zzz']\n",
      "[[2], [3], [4], [3], [4], [5], [4], [5], [6]]\n",
      "[[2, 3, 4, 5], [3, 4, 5, 6], [4, 5, 6, 7], [5, 6, 7, 8]]\n",
      "[(1, 1), (2, 1), (3, 1), (1, 2), (2, 2), (3, 2), (1, 3), (2, 3), (3, 3)]\n"
     ]
    }
   ],
   "source": [
    "s1 = 'xxxx'\n",
    "s2 = 'yyyy'\n",
    "s3 = 'zzzz'\n",
    "s4 = 'xyz'\n",
    "\n",
    "list1 = [s1[0:i+1] for i in range(len(s1))] + [s2[0:i+1] for i in range(len(s2))] + [s3[0:i+1] for i in range(len(s3))]\n",
    "list2 = [s4[i:i+1] for i in range(len(s4))]+[s4[i:i+1]*2 for i in range(len(s4))]+[s4[i:i+1]*3 for i in range(len(s4))]\n",
    "list3 = [[i] for i in range(2,5)]+[[i] for i in range(3,6)]+[[i] for i in range(4,7)]\n",
    "list4 = [[i for i in range(2,6)]]+[[i for i in range(3,7)]]+[[i for i in range(4,8)]]+[[i for i in range(5,9)]]\n",
    "list5 = [(j,i) for i in range(1,4) for j in range(1,4)]\n",
    "\n",
    "print(list1)\n",
    "print(list2)\n",
    "print(list3)\n",
    "print(list4)\n",
    "print(list5)\n"
   ]
  },
  {
   "cell_type": "code",
   "execution_count": null,
   "metadata": {},
   "outputs": [],
   "source": []
  }
 ],
 "metadata": {
  "kernelspec": {
   "display_name": "Python 3",
   "language": "python",
   "name": "python3"
  },
  "language_info": {
   "codemirror_mode": {
    "name": "ipython",
    "version": 3
   },
   "file_extension": ".py",
   "mimetype": "text/x-python",
   "name": "python",
   "nbconvert_exporter": "python",
   "pygments_lexer": "ipython3",
   "version": "3.7.6"
  }
 },
 "nbformat": 4,
 "nbformat_minor": 4
}
