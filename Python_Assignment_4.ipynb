{
 "cells": [
  {
   "cell_type": "markdown",
   "metadata": {},
   "source": [
    "1.1 Write a Python Program(with class concepts) to find the area of the triangle using the below\n",
    "formula.\n",
    "area = (s*(s-a)*(s-b)*(s-c)) ** 0.5\n",
    "\n",
    "Function to take the length of the sides of triangle from user should be defined in the parent\n",
    "class and function to calculate the area should be defined in subclass."
   ]
  },
  {
   "cell_type": "code",
   "execution_count": 90,
   "metadata": {},
   "outputs": [
    {
     "name": "stdout",
     "output_type": "stream",
     "text": [
      "33.46875\n"
     ]
    }
   ],
   "source": [
    "class CalcArea():\n",
    "    \n",
    "    def __init__(self, a, b, c):\n",
    "        self.a = a\n",
    "        self.b = b\n",
    "        self.c = c\n",
    "                \n",
    "class Triangle(CalcArea):\n",
    "            \n",
    "    def area(self):\n",
    "        # finding s = (a+b+c)/2\n",
    "        a = self.a\n",
    "        b = self.b\n",
    "        c = self.c\n",
    "        \n",
    "        # to validate the given inputs\n",
    "        if (a+b<=c) or (b+c<=a) or (a+c<=b):\n",
    "            return \"invalid input\"\n",
    "\n",
    "        s = (a + b + c)*0.5\n",
    "        return (s*(s-a)*(s-b)*(s-c))*0.5\n",
    "    \n",
    "    \n",
    "\n",
    "tr = Triangle(5, 4, 8)\n",
    "print(tr.area())\n",
    "\n",
    "\n"
   ]
  },
  {
   "cell_type": "code",
   "execution_count": null,
   "metadata": {},
   "outputs": [],
   "source": []
  },
  {
   "cell_type": "markdown",
   "metadata": {},
   "source": [
    "1.2 Write a function filter_long_words() that takes a list of words and an integer n and returns\n",
    "the list of words that are longer than n."
   ]
  },
  {
   "cell_type": "code",
   "execution_count": 102,
   "metadata": {},
   "outputs": [
    {
     "data": {
      "text/plain": [
       "['aditya', 'asfdsffgv', 'vandana', 'dodge']"
      ]
     },
     "execution_count": 102,
     "metadata": {},
     "output_type": "execute_result"
    }
   ],
   "source": [
    "def filter_long_words(list, n):\n",
    "    temp = []\n",
    "\n",
    "    for i in list:\n",
    "        \n",
    "        if type(i) != str:\n",
    "           continue\n",
    "        \n",
    "        if len(i)>n:\n",
    "            temp.append(i)\n",
    "    return temp\n",
    "\n",
    "li = [\"aditya\",\"tp\",\"asfdsffgv\",45,\"vandana\",\"abc\",\"cat\",\"dodge\"]\n",
    "\n",
    "\n",
    "filter_long_words(li, 3)"
   ]
  },
  {
   "cell_type": "markdown",
   "metadata": {},
   "source": [
    "2.1 Write a Python program using function concept that maps list of words into a list of integers\n",
    "representing the lengths of the corresponding words.\n",
    "Hint: If a list [ ab,cde,erty] is passed on to the python function output should come as [2,3,4]\n",
    "Here 2,3 and 4 are the lengths of the words in the list."
   ]
  },
  {
   "cell_type": "code",
   "execution_count": 106,
   "metadata": {},
   "outputs": [
    {
     "data": {
      "text/plain": [
       "[2, 3, 4]"
      ]
     },
     "execution_count": 106,
     "metadata": {},
     "output_type": "execute_result"
    }
   ],
   "source": [
    "def wordsToLen(list):\n",
    "    lengths = []\n",
    "    \n",
    "    for word in list:\n",
    "        lengths.append(len(word))\n",
    "    \n",
    "    return lengths\n",
    "\n",
    "\n",
    "words = ['ab', 'cde', 'erty']\n",
    "\n",
    "lens = wordsToLen(words)\n",
    "\n",
    "lens\n",
    "    "
   ]
  },
  {
   "cell_type": "code",
   "execution_count": null,
   "metadata": {},
   "outputs": [],
   "source": []
  },
  {
   "cell_type": "markdown",
   "metadata": {},
   "source": [
    "2.2 Write a Python function which takes a character (i.e. a string of length 1) and returns True if\n",
    "it is a vowel, False otherwise."
   ]
  },
  {
   "cell_type": "code",
   "execution_count": 126,
   "metadata": {},
   "outputs": [
    {
     "name": "stdout",
     "output_type": "stream",
     "text": [
      "True\n",
      "False\n"
     ]
    }
   ],
   "source": [
    "def isVowel(str):\n",
    "    \n",
    "    vowels = ['a','e','i','o','u']\n",
    "    \n",
    "    # Validating Input\n",
    "    if(str is None or len(str)>1):\n",
    "       return False\n",
    "\n",
    "    for ele in vowels:\n",
    "        if str == ele:\n",
    "           return True\n",
    "\n",
    "    return False\n",
    "\n",
    "print(isVowel('e'))  # Positive Case\n",
    "\n",
    "print(isVowel('b'))  # Negative Case\n",
    "\n"
   ]
  },
  {
   "cell_type": "code",
   "execution_count": null,
   "metadata": {},
   "outputs": [],
   "source": []
  }
 ],
 "metadata": {
  "kernelspec": {
   "display_name": "Python 3",
   "language": "python",
   "name": "python3"
  },
  "language_info": {
   "codemirror_mode": {
    "name": "ipython",
    "version": 3
   },
   "file_extension": ".py",
   "mimetype": "text/x-python",
   "name": "python",
   "nbconvert_exporter": "python",
   "pygments_lexer": "ipython3",
   "version": "3.7.6"
  }
 },
 "nbformat": 4,
 "nbformat_minor": 4
}
